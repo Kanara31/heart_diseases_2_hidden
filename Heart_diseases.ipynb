{
 "cells": [
  {
   "cell_type": "code",
   "execution_count": 7,
   "metadata": {},
   "outputs": [],
   "source": [
    "%config IPcompleter.use_jedi=False\n",
    "import pandas as pd"
   ]
  },
  {
   "cell_type": "code",
   "execution_count": 8,
   "metadata": {},
   "outputs": [],
   "source": [
    "df = pd.read_csv('heart_disease_dataset.csv')"
   ]
  },
  {
   "cell_type": "code",
   "execution_count": 9,
   "metadata": {},
   "outputs": [
    {
     "data": {
      "text/html": [
       "<div>\n",
       "<style scoped>\n",
       "    .dataframe tbody tr th:only-of-type {\n",
       "        vertical-align: middle;\n",
       "    }\n",
       "\n",
       "    .dataframe tbody tr th {\n",
       "        vertical-align: top;\n",
       "    }\n",
       "\n",
       "    .dataframe thead th {\n",
       "        text-align: right;\n",
       "    }\n",
       "</style>\n",
       "<table border=\"1\" class=\"dataframe\">\n",
       "  <thead>\n",
       "    <tr style=\"text-align: right;\">\n",
       "      <th></th>\n",
       "      <th>age;sex;chest_pain_type;resting_blood_pressure;cholesterol;fasting_blood_sugar;rest_ecg;max_heart_rate_achieved;exercise_induced_angina;st_depression;st_slope;num_major_vessels;thalassemia;target</th>\n",
       "    </tr>\n",
       "  </thead>\n",
       "  <tbody>\n",
       "    <tr>\n",
       "      <th>0</th>\n",
       "      <td>63;1;3;145;233;1;0;150;0;2.3;0;0;1;1</td>\n",
       "    </tr>\n",
       "    <tr>\n",
       "      <th>1</th>\n",
       "      <td>37;1;2;130;250;0;1;187;0;3.5;0;0;2;1</td>\n",
       "    </tr>\n",
       "    <tr>\n",
       "      <th>2</th>\n",
       "      <td>41;0;1;130;204;0;0;172;0;1.4;2;0;2;1</td>\n",
       "    </tr>\n",
       "    <tr>\n",
       "      <th>3</th>\n",
       "      <td>56;1;1;120;236;0;1;178;0;0.8;2;0;2;1</td>\n",
       "    </tr>\n",
       "    <tr>\n",
       "      <th>4</th>\n",
       "      <td>57;0;0;120;354;0;1;163;1;0.6;2;0;2;1</td>\n",
       "    </tr>\n",
       "    <tr>\n",
       "      <th>...</th>\n",
       "      <td>...</td>\n",
       "    </tr>\n",
       "    <tr>\n",
       "      <th>298</th>\n",
       "      <td>57;0;0;140;241;0;1;123;1;0.2;1;0;3;0</td>\n",
       "    </tr>\n",
       "    <tr>\n",
       "      <th>299</th>\n",
       "      <td>45;1;3;110;264;0;1;132;0;1.2;1;0;3;0</td>\n",
       "    </tr>\n",
       "    <tr>\n",
       "      <th>300</th>\n",
       "      <td>68;1;0;144;193;1;1;141;0;3.4;1;2;3;0</td>\n",
       "    </tr>\n",
       "    <tr>\n",
       "      <th>301</th>\n",
       "      <td>57;1;0;130;131;0;1;115;1;1.2;1;1;3;0</td>\n",
       "    </tr>\n",
       "    <tr>\n",
       "      <th>302</th>\n",
       "      <td>57;0;1;130;236;0;0;174;0;0.0;1;1;2;0</td>\n",
       "    </tr>\n",
       "  </tbody>\n",
       "</table>\n",
       "<p>303 rows × 1 columns</p>\n",
       "</div>"
      ],
      "text/plain": [
       "    age;sex;chest_pain_type;resting_blood_pressure;cholesterol;fasting_blood_sugar;rest_ecg;max_heart_rate_achieved;exercise_induced_angina;st_depression;st_slope;num_major_vessels;thalassemia;target\n",
       "0                 63;1;3;145;233;1;0;150;0;2.3;0;0;1;1                                                                                                                                                 \n",
       "1                 37;1;2;130;250;0;1;187;0;3.5;0;0;2;1                                                                                                                                                 \n",
       "2                 41;0;1;130;204;0;0;172;0;1.4;2;0;2;1                                                                                                                                                 \n",
       "3                 56;1;1;120;236;0;1;178;0;0.8;2;0;2;1                                                                                                                                                 \n",
       "4                 57;0;0;120;354;0;1;163;1;0.6;2;0;2;1                                                                                                                                                 \n",
       "..                                                 ...                                                                                                                                                 \n",
       "298               57;0;0;140;241;0;1;123;1;0.2;1;0;3;0                                                                                                                                                 \n",
       "299               45;1;3;110;264;0;1;132;0;1.2;1;0;3;0                                                                                                                                                 \n",
       "300               68;1;0;144;193;1;1;141;0;3.4;1;2;3;0                                                                                                                                                 \n",
       "301               57;1;0;130;131;0;1;115;1;1.2;1;1;3;0                                                                                                                                                 \n",
       "302               57;0;1;130;236;0;0;174;0;0.0;1;1;2;0                                                                                                                                                 \n",
       "\n",
       "[303 rows x 1 columns]"
      ]
     },
     "execution_count": 9,
     "metadata": {},
     "output_type": "execute_result"
    }
   ],
   "source": [
    "df"
   ]
  },
  {
   "cell_type": "code",
   "execution_count": 10,
   "metadata": {},
   "outputs": [
    {
     "data": {
      "text/html": [
       "<div>\n",
       "<style scoped>\n",
       "    .dataframe tbody tr th:only-of-type {\n",
       "        vertical-align: middle;\n",
       "    }\n",
       "\n",
       "    .dataframe tbody tr th {\n",
       "        vertical-align: top;\n",
       "    }\n",
       "\n",
       "    .dataframe thead th {\n",
       "        text-align: right;\n",
       "    }\n",
       "</style>\n",
       "<table border=\"1\" class=\"dataframe\">\n",
       "  <thead>\n",
       "    <tr style=\"text-align: right;\">\n",
       "      <th></th>\n",
       "      <th>age;sex;chest_pain_type;resting_blood_pressure;cholesterol;fasting_blood_sugar;rest_ecg;max_heart_rate_achieved;exercise_induced_angina;st_depression;st_slope;num_major_vessels;thalassemia;target</th>\n",
       "    </tr>\n",
       "  </thead>\n",
       "  <tbody>\n",
       "    <tr>\n",
       "      <th>0</th>\n",
       "      <td>63;1;3;145;233;1;0;150;0;2.3;0;0;1;1</td>\n",
       "    </tr>\n",
       "    <tr>\n",
       "      <th>1</th>\n",
       "      <td>37;1;2;130;250;0;1;187;0;3.5;0;0;2;1</td>\n",
       "    </tr>\n",
       "    <tr>\n",
       "      <th>2</th>\n",
       "      <td>41;0;1;130;204;0;0;172;0;1.4;2;0;2;1</td>\n",
       "    </tr>\n",
       "    <tr>\n",
       "      <th>3</th>\n",
       "      <td>56;1;1;120;236;0;1;178;0;0.8;2;0;2;1</td>\n",
       "    </tr>\n",
       "    <tr>\n",
       "      <th>4</th>\n",
       "      <td>57;0;0;120;354;0;1;163;1;0.6;2;0;2;1</td>\n",
       "    </tr>\n",
       "  </tbody>\n",
       "</table>\n",
       "</div>"
      ],
      "text/plain": [
       "  age;sex;chest_pain_type;resting_blood_pressure;cholesterol;fasting_blood_sugar;rest_ecg;max_heart_rate_achieved;exercise_induced_angina;st_depression;st_slope;num_major_vessels;thalassemia;target\n",
       "0               63;1;3;145;233;1;0;150;0;2.3;0;0;1;1                                                                                                                                                 \n",
       "1               37;1;2;130;250;0;1;187;0;3.5;0;0;2;1                                                                                                                                                 \n",
       "2               41;0;1;130;204;0;0;172;0;1.4;2;0;2;1                                                                                                                                                 \n",
       "3               56;1;1;120;236;0;1;178;0;0.8;2;0;2;1                                                                                                                                                 \n",
       "4               57;0;0;120;354;0;1;163;1;0.6;2;0;2;1                                                                                                                                                 "
      ]
     },
     "execution_count": 10,
     "metadata": {},
     "output_type": "execute_result"
    }
   ],
   "source": [
    "df.head()"
   ]
  },
  {
   "cell_type": "code",
   "execution_count": 11,
   "metadata": {
    "scrolled": true
   },
   "outputs": [
    {
     "data": {
      "text/html": [
       "<div>\n",
       "<style scoped>\n",
       "    .dataframe tbody tr th:only-of-type {\n",
       "        vertical-align: middle;\n",
       "    }\n",
       "\n",
       "    .dataframe tbody tr th {\n",
       "        vertical-align: top;\n",
       "    }\n",
       "\n",
       "    .dataframe thead th {\n",
       "        text-align: right;\n",
       "    }\n",
       "</style>\n",
       "<table border=\"1\" class=\"dataframe\">\n",
       "  <thead>\n",
       "    <tr style=\"text-align: right;\">\n",
       "      <th></th>\n",
       "      <th>age;sex;chest_pain_type;resting_blood_pressure;cholesterol;fasting_blood_sugar;rest_ecg;max_heart_rate_achieved;exercise_induced_angina;st_depression;st_slope;num_major_vessels;thalassemia;target</th>\n",
       "    </tr>\n",
       "  </thead>\n",
       "  <tbody>\n",
       "    <tr>\n",
       "      <th>count</th>\n",
       "      <td>303</td>\n",
       "    </tr>\n",
       "    <tr>\n",
       "      <th>unique</th>\n",
       "      <td>302</td>\n",
       "    </tr>\n",
       "    <tr>\n",
       "      <th>top</th>\n",
       "      <td>38;1;2;138;175;0;1;173;0;0.0;2;4;2;1</td>\n",
       "    </tr>\n",
       "    <tr>\n",
       "      <th>freq</th>\n",
       "      <td>2</td>\n",
       "    </tr>\n",
       "  </tbody>\n",
       "</table>\n",
       "</div>"
      ],
      "text/plain": [
       "       age;sex;chest_pain_type;resting_blood_pressure;cholesterol;fasting_blood_sugar;rest_ecg;max_heart_rate_achieved;exercise_induced_angina;st_depression;st_slope;num_major_vessels;thalassemia;target\n",
       "count                                                 303                                                                                                                                                 \n",
       "unique                                                302                                                                                                                                                 \n",
       "top                  38;1;2;138;175;0;1;173;0;0.0;2;4;2;1                                                                                                                                                 \n",
       "freq                                                    2                                                                                                                                                 "
      ]
     },
     "execution_count": 11,
     "metadata": {},
     "output_type": "execute_result"
    }
   ],
   "source": [
    "df.describe()"
   ]
  },
  {
   "cell_type": "code",
   "execution_count": 12,
   "metadata": {},
   "outputs": [
    {
     "name": "stdout",
     "output_type": "stream",
     "text": [
      "<class 'pandas.core.frame.DataFrame'>\n",
      "RangeIndex: 303 entries, 0 to 302\n",
      "Data columns (total 1 columns):\n",
      " #   Column                                                                                                                                                                                               Non-Null Count  Dtype \n",
      "---  ------                                                                                                                                                                                               --------------  ----- \n",
      " 0   age;sex;chest_pain_type;resting_blood_pressure;cholesterol;fasting_blood_sugar;rest_ecg;max_heart_rate_achieved;exercise_induced_angina;st_depression;st_slope;num_major_vessels;thalassemia;target  303 non-null    object\n",
      "dtypes: object(1)\n",
      "memory usage: 2.5+ KB\n"
     ]
    }
   ],
   "source": [
    "df.info()"
   ]
  },
  {
   "cell_type": "code",
   "execution_count": 13,
   "metadata": {},
   "outputs": [
    {
     "data": {
      "text/plain": [
       "age;sex;chest_pain_type;resting_blood_pressure;cholesterol;fasting_blood_sugar;rest_ecg;max_heart_rate_achieved;exercise_induced_angina;st_depression;st_slope;num_major_vessels;thalassemia;target    0\n",
       "dtype: int64"
      ]
     },
     "execution_count": 13,
     "metadata": {},
     "output_type": "execute_result"
    }
   ],
   "source": [
    "df.isnull().sum()"
   ]
  },
  {
   "cell_type": "code",
   "execution_count": 4,
   "metadata": {},
   "outputs": [],
   "source": [
    "import numpy as np\n",
    "\n",
    "def sigmoid(x):\n",
    "    return 1.0/(1+ np.exp(-x))\n",
    "\n",
    "def sigmoid_derivative(x):\n",
    "    return x * (1.0 - x)\n",
    "\n",
    "def mse_loss(y_true, y_pred):\n",
    "  # y_true and y_pred are numpy arrays of the same length.\n",
    "  return ((y_true - y_pred) ** 2).mean()\n",
    "\n",
    "def mse_loss_derivative(y_true, y_pred):\n",
    "  # y_true and y_pred are numpy arrays of the same length.\n",
    "  return (2*(y_true - y_pred))\n",
    "\n",
    "class ArtificialNeuralNetwork:\n",
    "    def __init__(self, x, y):\n",
    "        self.IN      = x\n",
    "        self.W1   = np.random.rand(self.IN.shape[1],6)\n",
    "        self.W2   = np.random.rand(6,4)\n",
    "        self.W3   = np.random.rand(4,1)                 \n",
    "        self.y          = y\n",
    "        self.OUT     = np.zeros(self.y.shape)\n",
    "        self.learning_rate = 0.3\n",
    "\n",
    "    def feed_forward(self):\n",
    "        self.HIDDEN_LAYER_1 = sigmoid(np.dot(self.IN, self.W1))\n",
    "        self.HIDDEN_LAYER_2 = sigmoid(np.dot(self.HIDDEN_LAYER_1, self.W2))\n",
    "        self.output = sigmoid(np.dot(self.HIDDEN_LAYER_2, self.W3))\n",
    "\n",
    "    #def back_propagate(self):\n",
    "        # application of the chain rule to find derivative of the loss function with respect to W2 and W1\n",
    "        #print(self.HIDDEN_LAYER_1.T)\n",
    "        #d_W2 = np.dot(self.HIDDEN_LAYER_1.T, (mse_loss_derivative(self.y, self.output) * sigmoid_derivative(self.output)))\n",
    "        #print(d_W2)\n",
    "        #d_W1 = np.dot(self.IN.T,  (np.dot(mse_loss_derivative(self.y, self.output) * sigmoid_derivative(self.output), self.W2.T) * sigmoid_derivative(self.HIDDEN_LAYER_1)))\n",
    "        \n",
    "                \n",
    "    def back_propagate(self):\n",
    "         # application of the chain rule to find derivative of the loss function with respect to W3,W2,W1\n",
    "        print(self.HIDDEN_LAYER_2.T)\n",
    "        d_W3 = np.dot(self.HIDDEN_LAYER_2.T, (mse_loss_derivative(self.y, self.output) * sigmoid_derivative(self.output)))\n",
    "        print(d_W3)\n",
    "        d_W2 = np.dot(self.HIDDEN_LAYER_1.T,  (np.dot(mse_loss_derivative(self.y, self.output) * sigmoid_derivative(self.output), self.W3.T) * sigmoid_derivative(self.HIDDEN_LAYER_2)))\n",
    "        print(d_W3)\n",
    "        d_W1 = np.dot(self.IN.T,  (np.dot(np.dot(mse_loss_derivative(self.y, self.output) * sigmoid_derivative(self.output), self.W3.T) * sigmoid_derivative(self.HIDDEN_LAYER_2),self.W2.T)*sigmoid_derivative(self.HIDDEN_LAYER_1)))  \n",
    "\n",
    "\n",
    "\n",
    "\n",
    "        # update the weights with the derivative (slope) of the loss function\n",
    "        self.W1 += self.learning_rate*d_W1\n",
    "        self.W2 += self.learning_rate*d_W2\n",
    "        self.W3 += self.learning_rate*d_W3\n",
    "\n",
    "    def train(self, epochs,learning_rate):\n",
    "        self.learning_rate=learning_rate\n",
    "        for i in range(epochs):\n",
    "            self.feed_forward()\n",
    "            self.back_propagate()\n",
    "        print(\"Successfully Trained the Model\")\n",
    "        print(\"Weights 1:\", self.W1)\n",
    "        print(\"Weights 2:\", self.W2)\n",
    "        print((\"Weights 3:\", self.W3))\n",
    "    \n",
    "    def print_output(self):\n",
    "        print(self.output)\n",
    "\n"
   ]
  },
  {
   "cell_type": "code",
   "execution_count": 5,
   "metadata": {},
   "outputs": [
    {
     "name": "stdout",
     "output_type": "stream",
     "text": [
      "[[0.84231811 0.89229807 0.88596302 0.91653574]\n",
      " [0.86612324 0.90564647 0.89770541 0.92454213]\n",
      " [0.80286662 0.8537208  0.84899302 0.8811434 ]\n",
      " [0.84866252 0.88605692 0.87686734 0.90420205]]\n",
      "[[-0.32228093]\n",
      " [-0.32853086]\n",
      " [-0.30851125]\n",
      " [-0.32170828]]\n",
      "[[-0.32228093]\n",
      " [-0.32853086]\n",
      " [-0.30851125]\n",
      " [-0.32170828]]\n",
      "[[0.83991318 0.89022508 0.88382488 0.91473611]\n",
      " [0.86131633 0.90134823 0.89319988 0.92064862]\n",
      " [0.80023784 0.85123595 0.84649892 0.87886008]\n",
      " [0.84585878 0.88340797 0.87408937 0.90169223]]\n",
      "[[-0.32746162]\n",
      " [-0.33327484]\n",
      " [-0.31333588]\n",
      " [-0.32707099]]\n",
      "[[-0.32746162]\n",
      " [-0.33327484]\n",
      " [-0.31333588]\n",
      " [-0.32707099]]\n",
      "Successfully Trained the Model\n",
      "Weights 1: [[0.29654439 0.17032412 0.11340934 0.87809898 0.91545975 0.66423357]\n",
      " [0.22942134 0.62603485 0.8601757  0.83820933 0.89181563 0.27920109]\n",
      " [0.55269644 0.96737558 0.3960174  0.19349996 0.02026247 0.18276129]]\n",
      "Weights 2: [[0.32364704 0.47869765 0.02602868 0.43143235]\n",
      " [0.22025847 0.45996964 0.37493782 0.72248317]\n",
      " [0.67107537 0.81941025 0.39515889 0.63002158]\n",
      " [0.26686078 0.06587958 0.84094003 0.15224734]\n",
      " [0.89667595 0.45721393 0.23712877 0.16907849]\n",
      " [0.51773025 0.72895424 0.50545841 0.63466431]]\n",
      "('Weights 3:', array([[-2.10639939e-05],\n",
      "       [ 5.76790891e-01],\n",
      "       [-6.56733574e-02],\n",
      "       [ 6.98508526e-02]]))\n"
     ]
    }
   ],
   "source": [
    "X = np.array([[0,0,1],\n",
    "              [0,1,1],\n",
    "              [1,0,1],\n",
    "              [1,1,1]])\n",
    "y = np.array([[0],[1],[1],[0]])\n",
    "epochs = 2\n",
    "learning_rate = 0.5\n",
    "ann = ArtificialNeuralNetwork(X,y)\n",
    "ann.train(epochs, learning_rate)"
   ]
  },
  {
   "cell_type": "code",
   "execution_count": null,
   "metadata": {},
   "outputs": [],
   "source": []
  }
 ],
 "metadata": {
  "kernelspec": {
   "display_name": "Python 3",
   "language": "python",
   "name": "python3"
  },
  "language_info": {
   "codemirror_mode": {
    "name": "ipython",
    "version": 3
   },
   "file_extension": ".py",
   "mimetype": "text/x-python",
   "name": "python",
   "nbconvert_exporter": "python",
   "pygments_lexer": "ipython3",
   "version": "3.8.3"
  }
 },
 "nbformat": 4,
 "nbformat_minor": 4
}
